{
 "cells": [
  {
   "cell_type": "code",
   "execution_count": 8,
   "id": "7ca958ea",
   "metadata": {},
   "outputs": [
    {
     "name": "stdout",
     "output_type": "stream",
     "text": [
      "{'Age', 1, 'India'}\n",
      "{4, 'hello'}\n"
     ]
    }
   ],
   "source": [
    "# Difference method in set\n",
    "\n",
    "setA = {1,2,3,\"India\",\"Age\"}\n",
    "setB = {2,3,4,\"hello\"}\n",
    "print(setA.difference(setB))\n",
    "print(setB.difference(setA))"
   ]
  },
  {
   "cell_type": "code",
   "execution_count": 11,
   "id": "4266f356",
   "metadata": {},
   "outputs": [
    {
     "name": "stdout",
     "output_type": "stream",
     "text": [
      "True\n",
      "True\n",
      "False\n"
     ]
    }
   ],
   "source": [
    "# issuperset method in set\n",
    "\n",
    "setX = {'a','f','t','w','i','k','c'}\n",
    "setY = {'c','f','i','a'}\n",
    "setZ = {'c','a'}\n",
    "print(setX.issuperset(setY))\n",
    "print(setY.issuperset(setZ))\n",
    "print(setZ.issuperset(setX))"
   ]
  },
  {
   "cell_type": "code",
   "execution_count": 13,
   "id": "059c2d05",
   "metadata": {},
   "outputs": [
    {
     "name": "stdout",
     "output_type": "stream",
     "text": [
      "True\n",
      "False\n"
     ]
    }
   ],
   "source": [
    "# isdisjoint method in set\n",
    "seta1 = {'@',1,7,5,9,6}\n",
    "seta2 = {'a','b','r','!',4,3}\n",
    "seta3 = {'$',5,9,'i'}\n",
    "\n",
    "print(seta1.isdisjoint(seta2))\n",
    "print(seta1.isdisjoint(seta3))"
   ]
  },
  {
   "cell_type": "code",
   "execution_count": 20,
   "id": "8e78f23c",
   "metadata": {},
   "outputs": [
    {
     "name": "stdout",
     "output_type": "stream",
     "text": [
      "None\n",
      "{1, 2, 'India', 4, 7}\n"
     ]
    }
   ],
   "source": [
    "# symmetric difference_update\n",
    "\n",
    "setA = {1,2,3,\"India\",\"hello\"}\n",
    "setB = {7,3,4,\"hello\"}\n",
    "print(setA.symmetric_difference_update(setB))\n",
    "print(setA)\n"
   ]
  },
  {
   "cell_type": "code",
   "execution_count": null,
   "id": "d38af78b",
   "metadata": {},
   "outputs": [],
   "source": []
  },
  {
   "cell_type": "code",
   "execution_count": null,
   "id": "5f0e1f6a",
   "metadata": {},
   "outputs": [],
   "source": []
  }
 ],
 "metadata": {
  "kernelspec": {
   "display_name": "Python 3 (ipykernel)",
   "language": "python",
   "name": "python3"
  },
  "language_info": {
   "codemirror_mode": {
    "name": "ipython",
    "version": 3
   },
   "file_extension": ".py",
   "mimetype": "text/x-python",
   "name": "python",
   "nbconvert_exporter": "python",
   "pygments_lexer": "ipython3",
   "version": "3.10.9"
  }
 },
 "nbformat": 4,
 "nbformat_minor": 5
}
