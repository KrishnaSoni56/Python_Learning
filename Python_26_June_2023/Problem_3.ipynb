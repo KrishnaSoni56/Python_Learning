{
 "cells": [
  {
   "cell_type": "code",
   "execution_count": 20,
   "id": "ecfb574a",
   "metadata": {},
   "outputs": [
    {
     "name": "stdout",
     "output_type": "stream",
     "text": [
      "Enter no. of rows5\n",
      "* * * * *  \n",
      "*       *  \n",
      "*       *  \n",
      "*       *  \n",
      "* * * * *  \n"
     ]
    }
   ],
   "source": [
    "n = int( input(\"Enter no. of rows\"))\n",
    "for i in range(n):\n",
    "    for j in range (n):\n",
    "        if(i == 0 or i == n-1 or j == 0 or j == n-1):\n",
    "            print(\"*\",end=\" \")\n",
    "        else:\n",
    "            print(\" \",end=\" \")\n",
    "            \n",
    "    print(\" \")    "
   ]
  },
  {
   "cell_type": "code",
   "execution_count": 21,
   "id": "ec2c2f2d",
   "metadata": {},
   "outputs": [
    {
     "name": "stdout",
     "output_type": "stream",
     "text": [
      "Enter no. of rows5\n",
      "* * * *  \n",
      "*     *  \n",
      "*     *  \n",
      "*     *  \n",
      "* * * *  \n"
     ]
    }
   ],
   "source": [
    "n = int( input(\"Enter no. of rows\"))\n",
    "for i in range(n):\n",
    "    for j in range (n - 1):\n",
    "        if(i == 0 or i == n-1 or j == 0 or j == n-2):\n",
    "            print(\"*\",end=\" \")\n",
    "        else:\n",
    "            print(\" \",end=\" \")\n",
    "            \n",
    "    print(\" \")   "
   ]
  },
  {
   "cell_type": "code",
   "execution_count": null,
   "id": "6752d1b6",
   "metadata": {},
   "outputs": [],
   "source": []
  }
 ],
 "metadata": {
  "kernelspec": {
   "display_name": "Python 3 (ipykernel)",
   "language": "python",
   "name": "python3"
  },
  "language_info": {
   "codemirror_mode": {
    "name": "ipython",
    "version": 3
   },
   "file_extension": ".py",
   "mimetype": "text/x-python",
   "name": "python",
   "nbconvert_exporter": "python",
   "pygments_lexer": "ipython3",
   "version": "3.10.9"
  }
 },
 "nbformat": 4,
 "nbformat_minor": 5
}
