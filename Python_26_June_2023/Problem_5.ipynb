{
 "cells": [
  {
   "cell_type": "code",
   "execution_count": 7,
   "id": "3389dcc6",
   "metadata": {},
   "outputs": [
    {
     "name": "stdout",
     "output_type": "stream",
     "text": [
      "Enter no. of row5\n",
      "1 *\n",
      "2 ****\n",
      "3 *********\n",
      "4 ****************\n",
      "5 *************************\n"
     ]
    }
   ],
   "source": [
    "n = int(input(\"Enter no. of row\"))\n",
    "\n",
    "for i in range(1,n+1):\n",
    "    print(i,end=\" \")\n",
    "    for j in range(1,(i*i)+1):\n",
    "        print(\"*\",end=\"\")\n",
    "    \n",
    "    print(\"\")"
   ]
  },
  {
   "cell_type": "code",
   "execution_count": null,
   "id": "a07ba485",
   "metadata": {},
   "outputs": [],
   "source": []
  }
 ],
 "metadata": {
  "kernelspec": {
   "display_name": "Python 3 (ipykernel)",
   "language": "python",
   "name": "python3"
  },
  "language_info": {
   "codemirror_mode": {
    "name": "ipython",
    "version": 3
   },
   "file_extension": ".py",
   "mimetype": "text/x-python",
   "name": "python",
   "nbconvert_exporter": "python",
   "pygments_lexer": "ipython3",
   "version": "3.10.9"
  }
 },
 "nbformat": 4,
 "nbformat_minor": 5
}
